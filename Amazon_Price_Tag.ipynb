{
  "nbformat": 4,
  "nbformat_minor": 0,
  "metadata": {
    "colab": {
      "provenance": [],
      "authorship_tag": "ABX9TyNjYw+OHs8pjVtCsJJSDy50",
      "include_colab_link": true
    },
    "kernelspec": {
      "name": "python3",
      "display_name": "Python 3"
    },
    "language_info": {
      "name": "python"
    }
  },
  "cells": [
    {
      "cell_type": "markdown",
      "metadata": {
        "id": "view-in-github",
        "colab_type": "text"
      },
      "source": [
        "<a href=\"https://colab.research.google.com/github/Subham0075/Amazon-Price-Tag-Selenium/blob/main/Amazon_Price_Tag.ipynb\" target=\"_parent\"><img src=\"https://colab.research.google.com/assets/colab-badge.svg\" alt=\"Open In Colab\"/></a>"
      ]
    },
    {
      "cell_type": "code",
      "execution_count": null,
      "metadata": {
        "id": "kiTCOlc3cl8_"
      },
      "outputs": [],
      "source": [
        "from selenium import webdriver\n",
        "from selenium.webdriver.common.keys import Keys\n",
        "from selenium.common.exceptions import NoSuchElementException\n",
        "from twilio.rest import Client\n",
        "import time\n",
        "\n",
        "# Function to scrape Amazon for product price\n",
        "def get_amazon_product_price(product_url):\n",
        "    # Initialize Chrome WebDriver\n",
        "    driver = webdriver.Chrome()\n",
        "\n",
        "    try:\n",
        "        # Open the URL\n",
        "        driver.get(product_url)\n",
        "\n",
        "        # Wait for the page to load\n",
        "        time.sleep(2)\n",
        "\n",
        "        # Find the price element\n",
        "        price_element = driver.find_element_by_id('priceblock_ourprice')  # You may need to adjust the element ID\n",
        "        price = price_element.text\n",
        "\n",
        "        return price\n",
        "\n",
        "    except NoSuchElementException:\n",
        "        return \"Price not found\"\n",
        "\n",
        "    finally:\n",
        "        # Close the WebDriver\n",
        "        driver.quit()\n",
        "\n",
        "# Function to send SMS using Twilio\n",
        "def send_sms(account_sid, auth_token, from_number, to_number, message):\n",
        "    client = Client(account_sid, auth_token)\n",
        "\n",
        "    try:\n",
        "        message = client.messages.create(\n",
        "            body=message,\n",
        "            from_=from_number,\n",
        "            to=to_number\n",
        "        )\n",
        "        print(\"SMS sent successfully!\")\n",
        "        print(\"Message SID:\", message.sid)\n",
        "\n",
        "    except Exception as e:\n",
        "        print(f\"Failed to send SMS: {str(e)}\")\n",
        "\n",
        "# Main program\n",
        "if __name__ == \"__main__\":\n",
        "    # Amazon product URL\n",
        "    product_url = input(\"Enter the Amazon product URL: \")\n",
        "\n",
        "    # Twilio credentials\n",
        "    account_sid = \"your_account_sid\"\n",
        "    auth_token = \"your_auth_token\"\n",
        "    from_number = \"your_twilio_phone_number\"\n",
        "    to_number = \"your_phone_number_to_receive_message\"\n",
        "\n",
        "    # Scrape the price from Amazon\n",
        "    product_price = get_amazon_product_price(product_url)\n",
        "\n",
        "    if product_price != \"Price not found\":\n",
        "        # Send SMS with the price\n",
        "        message = f\"The price of the product is {product_price}\"\n",
        "        send_sms(account_sid, auth_token, from_number, to_number, message)\n",
        "    else:\n",
        "        print(\"Failed to retrieve price from Amazon.\")"
      ]
    }
  ]
}